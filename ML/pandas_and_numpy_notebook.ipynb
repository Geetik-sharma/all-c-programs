{
 "cells": [
  {
   "cell_type": "markdown",
   "id": "94221a53",
   "metadata": {},
   "source": [
    "# NumPy and Pandas Tutorial\n",
    "This notebook explains the basics of **NumPy** and some **Pandas** concepts with code examples."
   ]
  },
  {
   "cell_type": "markdown",
   "id": "049d9efb",
   "metadata": {},
   "source": [
    "## Introduction to Pandas\n",
    "Pandas has two primary data structures:\n",
    "- **Series**: A one-dimensional array with indexes (stores a single column or row of data).\n",
    "- **DataFrame**: A two-dimensional tabular spreadsheet-like structure with rows and multiple columns."
   ]
  },
  {
   "cell_type": "markdown",
   "id": "53ee960e",
   "metadata": {},
   "source": [
    "## Creating Arrays in NumPy"
   ]
  },
  {
   "cell_type": "code",
   "execution_count": null,
   "id": "e5e41d6a",
   "metadata": {},
   "outputs": [],
   "source": [
    "import numpy as np\n",
    "\n",
    "# 1D Array\n",
    "arr1 = np.array([1, 2, 3, 4])\n",
    "print(\"1D Array:\", arr1)\n",
    "\n",
    "# 2D Array\n",
    "arr2 = np.array([[1, 2, 3], [3, 4, 5]])\n",
    "print(\"2D Array:\\n\", arr2)\n",
    "\n",
    "# Element-wise multiplication\n",
    "print(\"Element-wise multiplication:\", arr1 * 2)"
   ]
  },
  {
   "cell_type": "markdown",
   "id": "84fc30ec",
   "metadata": {},
   "source": [
    "## Performance: Python List vs NumPy Array"
   ]
  },
  {
   "cell_type": "code",
   "execution_count": null,
   "id": "5d4d3930",
   "metadata": {},
   "outputs": [],
   "source": [
    "import time\n",
    "\n",
    "# Using Python list\n",
    "start = time.time()\n",
    "py_list = [i*2 for i in range(1000000)]\n",
    "print(\"Python list operation time:\", time.time()-start)\n",
    "\n",
    "# Using NumPy array\n",
    "start = time.time()\n",
    "np_arr = np.arange(1000000) * 2\n",
    "print(\"NumPy array operation time:\", time.time()-start)"
   ]
  },
  {
   "cell_type": "markdown",
   "id": "7e6d4846",
   "metadata": {},
   "source": [
    "## Creating Arrays from Scratch"
   ]
  },
  {
   "cell_type": "code",
   "execution_count": null,
   "id": "fe79ed3b",
   "metadata": {},
   "outputs": [],
   "source": [
    "zeros = np.zeros((5, 5))  # Zero matrix\n",
    "print(\"Zero matrix:\\n\", zeros)\n",
    "\n",
    "ones = np.ones((4, 4))  # Ones matrix\n",
    "print(\"Ones matrix:\\n\", ones)\n",
    "\n",
    "full = np.full((3, 3), 7)  # Constant matrix\n",
    "print(\"Matrix with constant 7:\\n\", full)\n",
    "\n",
    "random = np.random.random((2, 3))  # Random values\n",
    "print(\"Random matrix:\\n\", random)\n",
    "\n",
    "sequence = np.arange(0, 10)  # Sequence\n",
    "print(\"Sequence array:\", sequence)"
   ]
  },
  {
   "cell_type": "markdown",
   "id": "d7242714",
   "metadata": {},
   "source": [
    "## Vector, Matrix, and Tensor"
   ]
  },
  {
   "cell_type": "code",
   "execution_count": null,
   "id": "4a6a9d15",
   "metadata": {},
   "outputs": [],
   "source": [
    "vector = np.array([1, 2, 3])\n",
    "print(\"Vector:\", vector)\n",
    "\n",
    "matrix = np.array([[1, 2, 3], [4, 5, 6]])\n",
    "print(\"Matrix:\\n\", matrix)\n",
    "\n",
    "tensor = np.array([[[1, 2], [3, 4]], [[5, 6], [7, 8]], [[9, 10], [11, 12]]])\n",
    "print(\"Tensor:\\n\", tensor)"
   ]
  },
  {
   "cell_type": "markdown",
   "id": "3aa4708a",
   "metadata": {},
   "source": [
    "## Array Properties"
   ]
  },
  {
   "cell_type": "code",
   "execution_count": null,
   "id": "4d3980ae",
   "metadata": {},
   "outputs": [],
   "source": [
    "array = np.array([[1, 2, 3], [4, 5, 6]])\n",
    "print(\"Shape:\", array.shape)\n",
    "print(\"Dimension:\", array.ndim)\n",
    "print(\"Size:\", array.size)\n",
    "print(\"Datatype:\", array.dtype)"
   ]
  },
  {
   "cell_type": "markdown",
   "id": "99f45e49",
   "metadata": {},
   "source": [
    "## Array Reshaping"
   ]
  },
  {
   "cell_type": "code",
   "execution_count": null,
   "id": "d60c572e",
   "metadata": {},
   "outputs": [],
   "source": [
    "array = np.arange(12)\n",
    "print(\"Original array:\", array)\n",
    "\n",
    "reshaped = array.reshape((3, 4))\n",
    "print(\"Reshaped (3x4):\\n\", reshaped)\n",
    "\n",
    "flatten = reshaped.flatten()\n",
    "print(\"Flattened:\", flatten)\n",
    "\n",
    "transpose = reshaped.T\n",
    "print(\"Transpose:\\n\", transpose)"
   ]
  },
  {
   "cell_type": "markdown",
   "id": "227c47e9",
   "metadata": {},
   "source": [
    "## Array Slicing"
   ]
  },
  {
   "cell_type": "code",
   "execution_count": null,
   "id": "c3f0517b",
   "metadata": {},
   "outputs": [],
   "source": [
    "arr = np.array([1,2,3,4,5,6,7,8,9,10])\n",
    "print(\"Basic slicing:\", arr[2:8])\n",
    "print(\"With step:\", arr[2:8:2])"
   ]
  },
  {
   "cell_type": "markdown",
   "id": "aecfd2de",
   "metadata": {},
   "source": [
    "## Sorting Arrays"
   ]
  },
  {
   "cell_type": "code",
   "execution_count": null,
   "id": "0ce4076d",
   "metadata": {},
   "outputs": [],
   "source": [
    "arr = np.array([1, 5, 2, 3, 6, 4, 8])\n",
    "print(\"Unsorted array:\", arr)\n",
    "print(\"Sorted array:\", np.sort(arr))\n",
    "\n",
    "unsorted = np.array([[1,6,2,0],[4,8,7,9],[9,1,2,6]])\n",
    "print(\"Sorted by column:\\n\", np.sort(unsorted, axis=0))\n",
    "print(\"Sorted by row:\\n\", np.sort(unsorted, axis=1))"
   ]
  },
  {
   "cell_type": "markdown",
   "id": "96190402",
   "metadata": {},
   "source": [
    "## Filtering Arrays"
   ]
  },
  {
   "cell_type": "code",
   "execution_count": null,
   "id": "0dc670c3",
   "metadata": {},
   "outputs": [],
   "source": [
    "numbers = np.array([1,2,3,4,5,6,7,8,9,10])\n",
    "\n",
    "# Even numbers\n",
    "even_numbers = numbers[numbers % 2 == 0]\n",
    "print(\"Even numbers:\", even_numbers)\n",
    "\n",
    "# Numbers greater than 5\n",
    "mask = numbers > 5\n",
    "print(\"Numbers greater than 5:\", numbers[mask])\n",
    "\n",
    "# Using np.where\n",
    "condition_array = np.where(numbers > 5, \"true\", \"false\")\n",
    "print(\"Condition array:\", condition_array)"
   ]
  },
  {
   "cell_type": "markdown",
   "id": "496fc2cc",
   "metadata": {},
   "source": [
    "## Adding and Removing Data"
   ]
  },
  {
   "cell_type": "code",
   "execution_count": null,
   "id": "f68a2e0f",
   "metadata": {},
   "outputs": [],
   "source": [
    "arr1 = np.array([1,2,3])\n",
    "arr2 = np.array([4,5,6])\n",
    "print(\"Sum of arrays:\", arr1 + arr2)\n",
    "\n",
    "concat = np.concatenate((arr1, arr2))\n",
    "print(\"Concatenated array:\", concat)\n",
    "\n",
    "# Delete operation\n",
    "arr = np.array([1,2,3,4])\n",
    "deleted = np.delete(arr, [2])\n",
    "print(\"Deleted element at index 2:\", deleted)"
   ]
  },
  {
   "cell_type": "markdown",
   "id": "57100648",
   "metadata": {},
   "source": [
    "## Adding Rows and Columns"
   ]
  },
  {
   "cell_type": "code",
   "execution_count": null,
   "id": "e0557f2b",
   "metadata": {},
   "outputs": [],
   "source": [
    "original = np.array([[1,2],[3,4]])\n",
    "\n",
    "# Add new row\n",
    "new_row = np.array([5,6])\n",
    "with_new_row = np.vstack((original, new_row))\n",
    "print(\"With new row:\\n\", with_new_row)\n",
    "\n",
    "# Add new column\n",
    "new_col = np.array([[7],[8]])\n",
    "with_new_col = np.hstack((original, new_col))\n",
    "print(\"With new column:\\n\", with_new_col)"
   ]
  }
 ],
 "metadata": {},
 "nbformat": 4,
 "nbformat_minor": 5
}
