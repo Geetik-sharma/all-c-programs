{
 "cells": [
  {
   "cell_type": "markdown",
   "id": "1f69ec44",
   "metadata": {},
   "source": [
    "Starting with pandas"
   ]
  },
  {
   "cell_type": "code",
   "execution_count": 5,
   "id": "27de15de",
   "metadata": {},
   "outputs": [],
   "source": [
    "import pandas as pd"
   ]
  },
  {
   "cell_type": "markdown",
   "id": "ea6adb0f",
   "metadata": {},
   "source": [
    "readingn existing dataframe"
   ]
  },
  {
   "cell_type": "code",
   "execution_count": 6,
   "id": "cbba64bf",
   "metadata": {},
   "outputs": [],
   "source": [
    "df=pd.read_csv(\"data.csv\") \n",
    "#we can give encoding utf8 or latin1"
   ]
  },
  {
   "cell_type": "markdown",
   "id": "ecaf809a",
   "metadata": {},
   "source": [
    "for excel we can select pd.read_excel for jshon file we can use pd.read_jshon and for csv we can use pd.read_csv\n",
    "\n",
    "saving of new dataframe\n"
   ]
  },
  {
   "cell_type": "code",
   "execution_count": 7,
   "id": "a73b833d",
   "metadata": {},
   "outputs": [],
   "source": [
    "# data={\"name\":[\"ram\",\"radha\",\"krishna\",\"arjun\",\"shiv\"], \"age\":[100,100,123,125,562]}\n",
    "# df=pd.DataFrame(data)\n"
   ]
  },
  {
   "cell_type": "code",
   "execution_count": 8,
   "id": "7c9d6de0",
   "metadata": {},
   "outputs": [],
   "source": [
    "# df.to_csv('create.csv',index=False)"
   ]
  },
  {
   "cell_type": "markdown",
   "id": "41b7206c",
   "metadata": {},
   "source": [
    "to excude index we can do index=False\n",
    "\n",
    "\n",
    "to save file in excel form we can do df.to_excel('filename.xlsx')\n",
    "for jshon df.to_jshon(\"fielname.jshon\")"
   ]
  },
  {
   "cell_type": "markdown",
   "id": "5ec5ba60",
   "metadata": {},
   "source": [
    "head (n) display first n rows if not given show first 5\n",
    "tail(n) similar to head"
   ]
  },
  {
   "cell_type": "code",
   "execution_count": 9,
   "id": "609b76b3",
   "metadata": {},
   "outputs": [
    {
     "name": "stdout",
     "output_type": "stream",
     "text": [
      "first 10 data set    Duration          Date  Pulse  Maxpulse  Calories\n",
      "0        60  '2020/12/01'    110       130     409.1\n",
      "1        60  '2020/12/02'    117       145     479.0\n",
      "2        60  '2020/12/03'    103       135     340.0\n",
      "3        45  '2020/12/04'    109       175     282.4\n",
      "4        45  '2020/12/05'    117       148     406.0\n",
      "5        60  '2020/12/06'    102       127     300.0\n",
      "6        60  '2020/12/07'    110       136     374.0\n",
      "7       450  '2020/12/08'    104       134     253.3\n",
      "8        30  '2020/12/09'    109       133     195.1\n",
      "9        60  '2020/12/10'     98       124     269.0\n"
     ]
    }
   ],
   "source": [
    "print(\"first 10 data set\",df.head(10))"
   ]
  },
  {
   "cell_type": "code",
   "execution_count": 10,
   "id": "f2f99923",
   "metadata": {},
   "outputs": [
    {
     "name": "stdout",
     "output_type": "stream",
     "text": [
      "display lad 10 rows     Duration          Date  Pulse  Maxpulse  Calories\n",
      "22        45           NaN    100       119     282.0\n",
      "23        60  '2020/12/23'    130       101     300.0\n",
      "24        45  '2020/12/24'    105       132     246.0\n",
      "25        60  '2020/12/25'    102       126     334.5\n",
      "26        60      20201226    100       120     250.0\n",
      "27        60  '2020/12/27'     92       118     241.0\n",
      "28        60  '2020/12/28'    103       132       NaN\n",
      "29        60  '2020/12/29'    100       132     280.0\n",
      "30        60  '2020/12/30'    102       129     380.3\n",
      "31        60  '2020/12/31'     92       115     243.0\n"
     ]
    }
   ],
   "source": [
    "print(\"display lad 10 rows\",df.tail(10))"
   ]
  },
  {
   "cell_type": "markdown",
   "id": "73002fda",
   "metadata": {},
   "source": [
    "to get the datatypes in dataframe"
   ]
  },
  {
   "cell_type": "code",
   "execution_count": 11,
   "id": "85da9075",
   "metadata": {},
   "outputs": [
    {
     "name": "stdout",
     "output_type": "stream",
     "text": [
      "Duration      int64\n",
      "Date         object\n",
      "Pulse         int64\n",
      "Maxpulse      int64\n",
      "Calories    float64\n",
      "dtype: object\n"
     ]
    }
   ],
   "source": [
    "print(df.dtypes)"
   ]
  },
  {
   "cell_type": "markdown",
   "id": "25f4fbb0",
   "metadata": {},
   "source": [
    "displaying the complete information of dataframe"
   ]
  },
  {
   "cell_type": "code",
   "execution_count": 12,
   "id": "b3df9295",
   "metadata": {},
   "outputs": [
    {
     "name": "stdout",
     "output_type": "stream",
     "text": [
      "<class 'pandas.core.frame.DataFrame'>\n",
      "RangeIndex: 32 entries, 0 to 31\n",
      "Data columns (total 5 columns):\n",
      " #   Column    Non-Null Count  Dtype  \n",
      "---  ------    --------------  -----  \n",
      " 0   Duration  32 non-null     int64  \n",
      " 1   Date      31 non-null     object \n",
      " 2   Pulse     32 non-null     int64  \n",
      " 3   Maxpulse  32 non-null     int64  \n",
      " 4   Calories  30 non-null     float64\n",
      "dtypes: float64(1), int64(3), object(1)\n",
      "memory usage: 1.4+ KB\n",
      "None\n"
     ]
    }
   ],
   "source": [
    "print(df.info())"
   ]
  },
  {
   "cell_type": "markdown",
   "id": "f212a6e6",
   "metadata": {},
   "source": [
    "df.discribe() use to get statical data of your dataframe"
   ]
  },
  {
   "cell_type": "code",
   "execution_count": 13,
   "id": "a8d1b5fc",
   "metadata": {},
   "outputs": [
    {
     "name": "stdout",
     "output_type": "stream",
     "text": [
      "         Duration       Pulse    Maxpulse    Calories\n",
      "count   32.000000   32.000000   32.000000   30.000000\n",
      "mean    68.437500  103.500000  128.500000  304.680000\n",
      "std     70.039591    7.832933   12.998759   66.003779\n",
      "min     30.000000   90.000000  101.000000  195.100000\n",
      "25%     60.000000  100.000000  120.000000  250.700000\n",
      "50%     60.000000  102.500000  127.500000  291.200000\n",
      "75%     60.000000  106.500000  132.250000  343.975000\n",
      "max    450.000000  130.000000  175.000000  479.000000\n"
     ]
    }
   ],
   "source": [
    "print(df.describe())"
   ]
  },
  {
   "cell_type": "code",
   "execution_count": 14,
   "id": "89ce3b10",
   "metadata": {},
   "outputs": [
    {
     "name": "stdout",
     "output_type": "stream",
     "text": [
      "(32, 5)\n"
     ]
    }
   ],
   "source": [
    "print(df.shape)\n",
    "#give no of rows and columns in tuple"
   ]
  },
  {
   "cell_type": "code",
   "execution_count": 15,
   "id": "96e3b728",
   "metadata": {},
   "outputs": [
    {
     "name": "stdout",
     "output_type": "stream",
     "text": [
      "Index(['Duration', 'Date', 'Pulse', 'Maxpulse', 'Calories'], dtype='object')\n"
     ]
    }
   ],
   "source": [
    "print(df.columns)\n",
    "#return columns name in list"
   ]
  },
  {
   "cell_type": "code",
   "execution_count": 16,
   "id": "34223c76",
   "metadata": {},
   "outputs": [
    {
     "name": "stdout",
     "output_type": "stream",
     "text": [
      "0      60\n",
      "1      60\n",
      "2      60\n",
      "3      45\n",
      "4      45\n",
      "5      60\n",
      "6      60\n",
      "7     450\n",
      "8      30\n",
      "9      60\n",
      "10     60\n",
      "11     60\n",
      "12     60\n",
      "13     60\n",
      "14     60\n",
      "15     60\n",
      "16     60\n",
      "17     60\n",
      "18     45\n",
      "19     60\n",
      "20     45\n",
      "21     60\n",
      "22     45\n",
      "23     60\n",
      "24     45\n",
      "25     60\n",
      "26     60\n",
      "27     60\n",
      "28     60\n",
      "29     60\n",
      "30     60\n",
      "31     60\n",
      "Name: Duration, dtype: int64\n"
     ]
    }
   ],
   "source": [
    "print(df['Duration'])"
   ]
  },
  {
   "cell_type": "code",
   "execution_count": 17,
   "id": "71917731",
   "metadata": {},
   "outputs": [
    {
     "name": "stdout",
     "output_type": "stream",
     "text": [
      "0     409.1\n",
      "1     479.0\n",
      "2     340.0\n",
      "3     282.4\n",
      "4     406.0\n",
      "5     300.0\n",
      "6     374.0\n",
      "7     253.3\n",
      "8     195.1\n",
      "9     269.0\n",
      "10    329.3\n",
      "11    250.7\n",
      "12    250.7\n",
      "13    345.3\n",
      "14    379.3\n",
      "15    275.0\n",
      "16    215.2\n",
      "17    300.0\n",
      "18      NaN\n",
      "19    323.0\n",
      "20    243.0\n",
      "21    364.2\n",
      "22    282.0\n",
      "23    300.0\n",
      "24    246.0\n",
      "25    334.5\n",
      "26    250.0\n",
      "27    241.0\n",
      "28      NaN\n",
      "29    280.0\n",
      "30    380.3\n",
      "31    243.0\n",
      "Name: Calories, dtype: float64\n"
     ]
    }
   ],
   "source": [
    "print(df['Calories'])"
   ]
  },
  {
   "cell_type": "markdown",
   "id": "fd64dc02",
   "metadata": {},
   "source": [
    "selecting a specific column and filtering of rows and columns"
   ]
  },
  {
   "cell_type": "code",
   "execution_count": 18,
   "id": "57ee4913",
   "metadata": {},
   "outputs": [
    {
     "name": "stdout",
     "output_type": "stream",
     "text": [
      "   Duration          Date  Pulse  Maxpulse  Calories\n",
      "0        60  '2020/12/01'    110       130     409.1\n",
      "1        60  '2020/12/02'    117       145     479.0\n",
      "4        45  '2020/12/05'    117       148     406.0\n"
     ]
    }
   ],
   "source": [
    "print(df[df[\"Calories\"]>400])"
   ]
  },
  {
   "cell_type": "code",
   "execution_count": 22,
   "id": "c23af72d",
   "metadata": {},
   "outputs": [
    {
     "name": "stdout",
     "output_type": "stream",
     "text": [
      "    Duration          Date  Pulse  Maxpulse  Calories\n",
      "3         45  '2020/12/04'    109       175     282.4\n",
      "7        450  '2020/12/08'    104       134     253.3\n",
      "9         60  '2020/12/10'     98       124     269.0\n",
      "11        60  '2020/12/12'    100       120     250.7\n",
      "12        60  '2020/12/12'    100       120     250.7\n",
      "15        60  '2020/12/15'     98       123     275.0\n",
      "16        60  '2020/12/16'     98       120     215.2\n",
      "20        45  '2020/12/20'     97       125     243.0\n",
      "22        45           NaN    100       119     282.0\n",
      "24        45  '2020/12/24'    105       132     246.0\n",
      "26        60      20201226    100       120     250.0\n",
      "27        60  '2020/12/27'     92       118     241.0\n",
      "29        60  '2020/12/29'    100       132     280.0\n",
      "31        60  '2020/12/31'     92       115     243.0\n"
     ]
    }
   ],
   "source": [
    "print(df[(df[\"Calories\"]>200)&(df[\"Calories\"]<300)])"
   ]
  },
  {
   "cell_type": "code",
   "execution_count": null,
   "id": "6fe955d7",
   "metadata": {},
   "outputs": [],
   "source": [
    " "
   ]
  }
 ],
 "metadata": {
  "kernelspec": {
   "display_name": "Python 3",
   "language": "python",
   "name": "python3"
  },
  "language_info": {
   "codemirror_mode": {
    "name": "ipython",
    "version": 3
   },
   "file_extension": ".py",
   "mimetype": "text/x-python",
   "name": "python",
   "nbconvert_exporter": "python",
   "pygments_lexer": "ipython3",
   "version": "3.13.5"
  }
 },
 "nbformat": 4,
 "nbformat_minor": 5
}
