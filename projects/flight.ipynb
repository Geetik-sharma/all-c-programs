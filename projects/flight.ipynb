{
 "cells": [
  {
   "cell_type": "markdown",
   "id": "c6cfe83a",
   "metadata": {},
   "source": [
    "including libraries"
   ]
  },
  {
   "cell_type": "code",
   "execution_count": 29,
   "id": "f58f4f0f",
   "metadata": {},
   "outputs": [],
   "source": [
    "import numpy as np \n",
    "import pandas as pd\n",
    "import matplotlib.pyplot as plt"
   ]
  },
  {
   "cell_type": "code",
   "execution_count": 30,
   "id": "31912a7d",
   "metadata": {},
   "outputs": [],
   "source": [
    "data=pd.read_csv(r\"C:\\Users\\GeetikSharma\\c++programs\\projects\\flight data analysis\\flight.csv\")"
   ]
  },
  {
   "cell_type": "code",
   "execution_count": 31,
   "id": "56fb231b",
   "metadata": {},
   "outputs": [
    {
     "name": "stdout",
     "output_type": "stream",
     "text": [
      "            id  year  month  day  dep_time  sched_dep_time  dep_delay  \\\n",
      "0            0  2013      1    1     517.0             515        2.0   \n",
      "1            1  2013      1    1     533.0             529        4.0   \n",
      "2            2  2013      1    1     542.0             540        2.0   \n",
      "3            3  2013      1    1     544.0             545       -1.0   \n",
      "4            4  2013      1    1     554.0             600       -6.0   \n",
      "...        ...   ...    ...  ...       ...             ...        ...   \n",
      "336771  336771  2013      9   30       NaN            1455        NaN   \n",
      "336772  336772  2013      9   30       NaN            2200        NaN   \n",
      "336773  336773  2013      9   30       NaN            1210        NaN   \n",
      "336774  336774  2013      9   30       NaN            1159        NaN   \n",
      "336775  336775  2013      9   30       NaN             840        NaN   \n",
      "\n",
      "        arr_time  sched_arr_time  arr_delay  ... flight  tailnum origin dest  \\\n",
      "0          830.0             819       11.0  ...   1545   N14228    EWR  IAH   \n",
      "1          850.0             830       20.0  ...   1714   N24211    LGA  IAH   \n",
      "2          923.0             850       33.0  ...   1141   N619AA    JFK  MIA   \n",
      "3         1004.0            1022      -18.0  ...    725   N804JB    JFK  BQN   \n",
      "4          812.0             837      -25.0  ...    461   N668DN    LGA  ATL   \n",
      "...          ...             ...        ...  ...    ...      ...    ...  ...   \n",
      "336771       NaN            1634        NaN  ...   3393      NaN    JFK  DCA   \n",
      "336772       NaN            2312        NaN  ...   3525      NaN    LGA  SYR   \n",
      "336773       NaN            1330        NaN  ...   3461   N535MQ    LGA  BNA   \n",
      "336774       NaN            1344        NaN  ...   3572   N511MQ    LGA  CLE   \n",
      "336775       NaN            1020        NaN  ...   3531   N839MQ    LGA  RDU   \n",
      "\n",
      "       air_time  distance  hour  minute            time_hour  \\\n",
      "0         227.0      1400     5      15  2013-01-01 05:00:00   \n",
      "1         227.0      1416     5      29  2013-01-01 05:00:00   \n",
      "2         160.0      1089     5      40  2013-01-01 05:00:00   \n",
      "3         183.0      1576     5      45  2013-01-01 05:00:00   \n",
      "4         116.0       762     6       0  2013-01-01 06:00:00   \n",
      "...         ...       ...   ...     ...                  ...   \n",
      "336771      NaN       213    14      55  2013-09-30 14:00:00   \n",
      "336772      NaN       198    22       0  2013-09-30 22:00:00   \n",
      "336773      NaN       764    12      10  2013-09-30 12:00:00   \n",
      "336774      NaN       419    11      59  2013-09-30 11:00:00   \n",
      "336775      NaN       431     8      40  2013-09-30 08:00:00   \n",
      "\n",
      "                          name  \n",
      "0        United Air Lines Inc.  \n",
      "1        United Air Lines Inc.  \n",
      "2       American Airlines Inc.  \n",
      "3              JetBlue Airways  \n",
      "4         Delta Air Lines Inc.  \n",
      "...                        ...  \n",
      "336771       Endeavor Air Inc.  \n",
      "336772       Endeavor Air Inc.  \n",
      "336773               Envoy Air  \n",
      "336774               Envoy Air  \n",
      "336775               Envoy Air  \n",
      "\n",
      "[336776 rows x 21 columns]\n"
     ]
    }
   ],
   "source": [
    "print(data)"
   ]
  },
  {
   "cell_type": "markdown",
   "id": "32dcb488",
   "metadata": {},
   "source": [
    "getting all data types in data"
   ]
  },
  {
   "cell_type": "code",
   "execution_count": 32,
   "id": "f98e1489",
   "metadata": {},
   "outputs": [
    {
     "name": "stdout",
     "output_type": "stream",
     "text": [
      "id                  int64\n",
      "year                int64\n",
      "month               int64\n",
      "day                 int64\n",
      "dep_time          float64\n",
      "sched_dep_time      int64\n",
      "dep_delay         float64\n",
      "arr_time          float64\n",
      "sched_arr_time      int64\n",
      "arr_delay         float64\n",
      "carrier            object\n",
      "flight              int64\n",
      "tailnum            object\n",
      "origin             object\n",
      "dest               object\n",
      "air_time          float64\n",
      "distance            int64\n",
      "hour                int64\n",
      "minute              int64\n",
      "time_hour          object\n",
      "name               object\n",
      "dtype: object\n"
     ]
    }
   ],
   "source": [
    "print(data.dtypes)"
   ]
  },
  {
   "cell_type": "markdown",
   "id": "99a11d31",
   "metadata": {},
   "source": [
    "getting shape of data"
   ]
  },
  {
   "cell_type": "code",
   "execution_count": 33,
   "id": "1bc48075",
   "metadata": {},
   "outputs": [
    {
     "name": "stdout",
     "output_type": "stream",
     "text": [
      "(336776, 21)\n"
     ]
    }
   ],
   "source": [
    "print(data.shape)"
   ]
  },
  {
   "cell_type": "markdown",
   "id": "e37a8bbd",
   "metadata": {},
   "source": [
    "getting columns name in list "
   ]
  },
  {
   "cell_type": "code",
   "execution_count": 34,
   "id": "d40127f8",
   "metadata": {},
   "outputs": [
    {
     "name": "stdout",
     "output_type": "stream",
     "text": [
      "Index(['id', 'year', 'month', 'day', 'dep_time', 'sched_dep_time', 'dep_delay',\n",
      "       'arr_time', 'sched_arr_time', 'arr_delay', 'carrier', 'flight',\n",
      "       'tailnum', 'origin', 'dest', 'air_time', 'distance', 'hour', 'minute',\n",
      "       'time_hour', 'name'],\n",
      "      dtype='object')\n"
     ]
    }
   ],
   "source": [
    "print(data.columns)"
   ]
  },
  {
   "cell_type": "markdown",
   "id": "5d1d5447",
   "metadata": {},
   "source": [
    "getting all flight name in data"
   ]
  },
  {
   "cell_type": "code",
   "execution_count": 35,
   "id": "1e5c8569",
   "metadata": {},
   "outputs": [],
   "source": [
    "flight_names=(data['name'].unique())"
   ]
  },
  {
   "cell_type": "code",
   "execution_count": 36,
   "id": "d7abd124",
   "metadata": {},
   "outputs": [
    {
     "name": "stdout",
     "output_type": "stream",
     "text": [
      "['United Air Lines Inc.' 'American Airlines Inc.' 'JetBlue Airways'\n",
      " 'Delta Air Lines Inc.' 'ExpressJet Airlines Inc.' 'Envoy Air'\n",
      " 'US Airways Inc.' 'Southwest Airlines Co.' 'Virgin America'\n",
      " 'AirTran Airways Corporation' 'Alaska Airlines Inc.' 'Endeavor Air Inc.'\n",
      " 'Frontier Airlines Inc.' 'Hawaiian Airlines Inc.' 'Mesa Airlines Inc.'\n",
      " 'SkyWest Airlines Inc.']\n"
     ]
    }
   ],
   "source": [
    "print(flight_names)"
   ]
  },
  {
   "cell_type": "markdown",
   "id": "ac159904",
   "metadata": {},
   "source": [
    "cleaning of dataset"
   ]
  },
  {
   "cell_type": "code",
   "execution_count": 44,
   "id": "9f1412d6",
   "metadata": {},
   "outputs": [],
   "source": [
    "# data.drop(columns='index ')\n",
    "# #use to drop a column"
   ]
  },
  {
   "cell_type": "code",
   "execution_count": 45,
   "id": "0305df06",
   "metadata": {},
   "outputs": [
    {
     "name": "stdout",
     "output_type": "stream",
     "text": [
      "<class 'pandas.core.frame.DataFrame'>\n",
      "RangeIndex: 336776 entries, 0 to 336775\n",
      "Data columns (total 21 columns):\n",
      " #   Column          Non-Null Count   Dtype  \n",
      "---  ------          --------------   -----  \n",
      " 0   id              336776 non-null  int64  \n",
      " 1   year            336776 non-null  int64  \n",
      " 2   month           336776 non-null  int64  \n",
      " 3   day             336776 non-null  int64  \n",
      " 4   dep_time        328521 non-null  float64\n",
      " 5   sched_dep_time  336776 non-null  int64  \n",
      " 6   dep_delay       328521 non-null  float64\n",
      " 7   arr_time        328063 non-null  float64\n",
      " 8   sched_arr_time  336776 non-null  int64  \n",
      " 9   arr_delay       327346 non-null  float64\n",
      " 10  carrier         336776 non-null  object \n",
      " 11  flight          336776 non-null  int64  \n",
      " 12  tailnum         334264 non-null  object \n",
      " 13  origin          336776 non-null  object \n",
      " 14  dest            336776 non-null  object \n",
      " 15  air_time        327346 non-null  float64\n",
      " 16  distance        336776 non-null  int64  \n",
      " 17  hour            336776 non-null  int64  \n",
      " 18  minute          336776 non-null  int64  \n",
      " 19  time_hour       336776 non-null  object \n",
      " 20  name            336776 non-null  object \n",
      "dtypes: float64(5), int64(10), object(6)\n",
      "memory usage: 54.0+ MB\n",
      "None\n"
     ]
    }
   ],
   "source": [
    "print(data.info())"
   ]
  },
  {
   "cell_type": "code",
   "execution_count": 46,
   "id": "3d51670a",
   "metadata": {},
   "outputs": [
    {
     "name": "stdout",
     "output_type": "stream",
     "text": [
      "                  id      year          month            day       dep_time  \\\n",
      "count  336776.000000  336776.0  336776.000000  336776.000000  328521.000000   \n",
      "mean   168387.500000    2013.0       6.548510      15.710787    1349.109947   \n",
      "std     97219.001466       0.0       3.414457       8.768607     488.281791   \n",
      "min         0.000000    2013.0       1.000000       1.000000       1.000000   \n",
      "25%     84193.750000    2013.0       4.000000       8.000000     907.000000   \n",
      "50%    168387.500000    2013.0       7.000000      16.000000    1401.000000   \n",
      "75%    252581.250000    2013.0      10.000000      23.000000    1744.000000   \n",
      "max    336775.000000    2013.0      12.000000      31.000000    2400.000000   \n",
      "\n",
      "       sched_dep_time      dep_delay       arr_time  sched_arr_time  \\\n",
      "count   336776.000000  328521.000000  328063.000000   336776.000000   \n",
      "mean      1344.254840      12.639070    1502.054999     1536.380220   \n",
      "std        467.335756      40.210061     533.264132      497.457142   \n",
      "min        106.000000     -43.000000       1.000000        1.000000   \n",
      "25%        906.000000      -5.000000    1104.000000     1124.000000   \n",
      "50%       1359.000000      -2.000000    1535.000000     1556.000000   \n",
      "75%       1729.000000      11.000000    1940.000000     1945.000000   \n",
      "max       2359.000000    1301.000000    2400.000000     2359.000000   \n",
      "\n",
      "           arr_delay         flight       air_time       distance  \\\n",
      "count  327346.000000  336776.000000  327346.000000  336776.000000   \n",
      "mean        6.895377    1971.923620     150.686460    1039.912604   \n",
      "std        44.633292    1632.471938      93.688305     733.233033   \n",
      "min       -86.000000       1.000000      20.000000      17.000000   \n",
      "25%       -17.000000     553.000000      82.000000     502.000000   \n",
      "50%        -5.000000    1496.000000     129.000000     872.000000   \n",
      "75%        14.000000    3465.000000     192.000000    1389.000000   \n",
      "max      1272.000000    8500.000000     695.000000    4983.000000   \n",
      "\n",
      "                hour         minute  \n",
      "count  336776.000000  336776.000000  \n",
      "mean       13.180247      26.230100  \n",
      "std         4.661316      19.300846  \n",
      "min         1.000000       0.000000  \n",
      "25%         9.000000       8.000000  \n",
      "50%        13.000000      29.000000  \n",
      "75%        17.000000      44.000000  \n",
      "max        23.000000      59.000000  \n"
     ]
    }
   ],
   "source": [
    "print (data.describe())"
   ]
  },
  {
   "cell_type": "markdown",
   "id": "cb764441",
   "metadata": {},
   "source": [
    "to check null values in dataset we use isnull function"
   ]
  },
  {
   "cell_type": "code",
   "execution_count": 47,
   "id": "44ac39cf",
   "metadata": {},
   "outputs": [
    {
     "name": "stdout",
     "output_type": "stream",
     "text": [
      "           id   year  month    day  dep_time  sched_dep_time  dep_delay  \\\n",
      "0       False  False  False  False     False           False      False   \n",
      "1       False  False  False  False     False           False      False   \n",
      "2       False  False  False  False     False           False      False   \n",
      "3       False  False  False  False     False           False      False   \n",
      "4       False  False  False  False     False           False      False   \n",
      "...       ...    ...    ...    ...       ...             ...        ...   \n",
      "336771  False  False  False  False      True           False       True   \n",
      "336772  False  False  False  False      True           False       True   \n",
      "336773  False  False  False  False      True           False       True   \n",
      "336774  False  False  False  False      True           False       True   \n",
      "336775  False  False  False  False      True           False       True   \n",
      "\n",
      "        arr_time  sched_arr_time  arr_delay  ...  flight  tailnum  origin  \\\n",
      "0          False           False      False  ...   False    False   False   \n",
      "1          False           False      False  ...   False    False   False   \n",
      "2          False           False      False  ...   False    False   False   \n",
      "3          False           False      False  ...   False    False   False   \n",
      "4          False           False      False  ...   False    False   False   \n",
      "...          ...             ...        ...  ...     ...      ...     ...   \n",
      "336771      True           False       True  ...   False     True   False   \n",
      "336772      True           False       True  ...   False     True   False   \n",
      "336773      True           False       True  ...   False    False   False   \n",
      "336774      True           False       True  ...   False    False   False   \n",
      "336775      True           False       True  ...   False    False   False   \n",
      "\n",
      "         dest  air_time  distance   hour  minute  time_hour   name  \n",
      "0       False     False     False  False   False      False  False  \n",
      "1       False     False     False  False   False      False  False  \n",
      "2       False     False     False  False   False      False  False  \n",
      "3       False     False     False  False   False      False  False  \n",
      "4       False     False     False  False   False      False  False  \n",
      "...       ...       ...       ...    ...     ...        ...    ...  \n",
      "336771  False      True     False  False   False      False  False  \n",
      "336772  False      True     False  False   False      False  False  \n",
      "336773  False      True     False  False   False      False  False  \n",
      "336774  False      True     False  False   False      False  False  \n",
      "336775  False      True     False  False   False      False  False  \n",
      "\n",
      "[336776 rows x 21 columns]\n"
     ]
    }
   ],
   "source": [
    "print(data.isnull())"
   ]
  },
  {
   "cell_type": "markdown",
   "id": "378f10b8",
   "metadata": {},
   "source": [
    "getting the name of flight conpanies with null values\n",
    "\n",
    "we use loc to select a row depending on condition"
   ]
  },
  {
   "cell_type": "code",
   "execution_count": 55,
   "id": "1a245e40",
   "metadata": {},
   "outputs": [],
   "source": [
    "companies_null_value=(data.loc[data[\"dep_time\"].isnull() | data[\"arr_time\"].isnull(),\"name\"].unique())"
   ]
  },
  {
   "cell_type": "code",
   "execution_count": 58,
   "id": "059ca3a6",
   "metadata": {},
   "outputs": [
    {
     "name": "stdout",
     "output_type": "stream",
     "text": [
      "        flight                    name\n",
      "0         1545   United Air Lines Inc.\n",
      "1         1714   United Air Lines Inc.\n",
      "2         1141  American Airlines Inc.\n",
      "3          725         JetBlue Airways\n",
      "4          461    Delta Air Lines Inc.\n",
      "...        ...                     ...\n",
      "336771    3393       Endeavor Air Inc.\n",
      "336772    3525       Endeavor Air Inc.\n",
      "336773    3461               Envoy Air\n",
      "336774    3572               Envoy Air\n",
      "336775    3531               Envoy Air\n",
      "\n",
      "[336434 rows x 2 columns]\n"
     ]
    }
   ],
   "source": [
    "print(data.loc[data['name'].isin( companies_null_value ),[\"flight\",\"name\"]])"
   ]
  },
  {
   "cell_type": "markdown",
   "id": "8342ea84",
   "metadata": {},
   "source": [
    "Q1. what are the airlines in dataset ,accompained by their frequencies"
   ]
  },
  {
   "cell_type": "code",
   "execution_count": 59,
   "id": "8cfc9daf",
   "metadata": {},
   "outputs": [
    {
     "name": "stdout",
     "output_type": "stream",
     "text": [
      "['United Air Lines Inc.' 'American Airlines Inc.' 'JetBlue Airways'\n",
      " 'Delta Air Lines Inc.' 'ExpressJet Airlines Inc.' 'Envoy Air'\n",
      " 'US Airways Inc.' 'Southwest Airlines Co.' 'Virgin America'\n",
      " 'AirTran Airways Corporation' 'Alaska Airlines Inc.' 'Endeavor Air Inc.'\n",
      " 'Frontier Airlines Inc.' 'Hawaiian Airlines Inc.' 'Mesa Airlines Inc.'\n",
      " 'SkyWest Airlines Inc.']\n"
     ]
    }
   ],
   "source": [
    "print(data['name'].unique())"
   ]
  },
  {
   "cell_type": "code",
   "execution_count": null,
   "id": "8b5c2771",
   "metadata": {},
   "outputs": [
    {
     "name": "stdout",
     "output_type": "stream",
     "text": [
      "name\n",
      "United Air Lines Inc.          58665\n",
      "JetBlue Airways                54635\n",
      "ExpressJet Airlines Inc.       54173\n",
      "Delta Air Lines Inc.           48110\n",
      "American Airlines Inc.         32729\n",
      "Envoy Air                      26397\n",
      "US Airways Inc.                20536\n",
      "Endeavor Air Inc.              18460\n",
      "Southwest Airlines Co.         12275\n",
      "Virgin America                  5162\n",
      "AirTran Airways Corporation     3260\n",
      "Alaska Airlines Inc.             714\n",
      "Frontier Airlines Inc.           685\n",
      "Mesa Airlines Inc.               601\n",
      "Hawaiian Airlines Inc.           342\n",
      "SkyWest Airlines Inc.             32\n",
      "Name: count, dtype: int64\n"
     ]
    }
   ],
   "source": [
    "print(data['name'].value_counts())\n",
    "# value_counts the frequency of unique element in column"
   ]
  },
  {
   "cell_type": "code",
   "execution_count": null,
   "id": "7f363a91",
   "metadata": {},
   "outputs": [],
   "source": []
  }
 ],
 "metadata": {
  "kernelspec": {
   "display_name": "Python 3",
   "language": "python",
   "name": "python3"
  },
  "language_info": {
   "codemirror_mode": {
    "name": "ipython",
    "version": 3
   },
   "file_extension": ".py",
   "mimetype": "text/x-python",
   "name": "python",
   "nbconvert_exporter": "python",
   "pygments_lexer": "ipython3",
   "version": "3.13.5"
  }
 },
 "nbformat": 4,
 "nbformat_minor": 5
}
